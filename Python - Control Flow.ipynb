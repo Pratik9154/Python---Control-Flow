{
 "cells": [
  {
   "cell_type": "code",
   "execution_count": 1,
   "id": "1957e99f-e187-4fb0-b210-03a428426b27",
   "metadata": {},
   "outputs": [
    {
     "name": "stdin",
     "output_type": "stream",
     "text": [
      "Enter a number:  -9\n"
     ]
    },
    {
     "name": "stdout",
     "output_type": "stream",
     "text": [
      "The number is negative.\n"
     ]
    }
   ],
   "source": [
    "# Basic If-Else Statements\n",
    "\n",
    "# 1. Write a Python program to check if a given number is positive or negative.\n",
    "number = float(input(\"Enter a number: \"))\n",
    "if number > 0:\n",
    "    print(\"The number is positive.\")\n",
    "elif number < 0:\n",
    "    print(\"The number is negative.\")\n",
    "else:\n",
    "    print(\"The number is zero.\")"
   ]
  },
  {
   "cell_type": "code",
   "execution_count": 3,
   "id": "ec3ab966-ec8e-40f7-b646-af6a03bd3e04",
   "metadata": {},
   "outputs": [
    {
     "name": "stdin",
     "output_type": "stream",
     "text": [
      "Enter your age:  66\n"
     ]
    },
    {
     "name": "stdout",
     "output_type": "stream",
     "text": [
      "You are eligible to vote.\n"
     ]
    }
   ],
   "source": [
    "# 2. Create a program that determines if a person is eligible to vote based on their age.\n",
    "age = int(input(\"Enter your age: \"))\n",
    "if age >= 18:\n",
    "    print(\"You are eligible to vote.\")\n",
    "else:\n",
    "    print(\"You are not eligible to vote.\")"
   ]
  },
  {
   "cell_type": "code",
   "execution_count": 5,
   "id": "e0d6b846-f9a7-4768-8740-f96dbb850315",
   "metadata": {},
   "outputs": [
    {
     "name": "stdin",
     "output_type": "stream",
     "text": [
      "Enter the first number:  1\n",
      "Enter the second number:  1\n"
     ]
    },
    {
     "name": "stdout",
     "output_type": "stream",
     "text": [
      "1.0 is the maximum number.\n"
     ]
    }
   ],
   "source": [
    "# 3. Develop a program to find the maximum of two numbers using if-else statements.\n",
    "num1 = float(input(\"Enter the first number: \"))\n",
    "num2 = float(input(\"Enter the second number: \"))\n",
    "if num1 > num2:\n",
    "    print(f\"{num1} is the maximum number.\")\n",
    "else:\n",
    "    print(f\"{num2} is the maximum number.\")"
   ]
  },
  {
   "cell_type": "code",
   "execution_count": null,
   "id": "c6623104-f785-4e8c-a564-9f1f020f6150",
   "metadata": {},
   "outputs": [],
   "source": [
    "# 4. Write a Python script to classify a given year as a leap year or not.\n",
    "year = int(input(\"Enter a year: \"))\n",
    "if (year % 4 == 0 and year % 100 != 0) or (year % 400 == 0):\n",
    "    print(f\"{year} is a leap year.\")\n",
    "else:\n",
    "    print(f\"{year} is not a leap year.\")"
   ]
  },
  {
   "cell_type": "code",
   "execution_count": null,
   "id": "c9ff426c-095e-4754-9900-3ca8a8a19ce3",
   "metadata": {},
   "outputs": [],
   "source": [
    "# 5. Create a program that checks whether a character is a vowel or a consonant.\n",
    "char = input(\"Enter a character: \").lower()\n",
    "if char in 'aeiou':\n",
    "    print(f\"{char} is a vowel.\")\n",
    "else:\n",
    "    print(f\"{char} is a consonant.\")"
   ]
  },
  {
   "cell_type": "code",
   "execution_count": null,
   "id": "c24b60da-e303-45bf-819a-423ac86f37c6",
   "metadata": {},
   "outputs": [],
   "source": [
    "# 6. Implement a program to determine whether a given number is even or odd.\n",
    "number = int(input(\"Enter a number: \"))\n",
    "if number % 2 == 0:\n",
    "    print(\"The number is even.\")\n",
    "else:\n",
    "    print(\"The number is odd.\")"
   ]
  },
  {
   "cell_type": "code",
   "execution_count": null,
   "id": "fe951038-b9d8-47d2-a850-6c669bb2e2ee",
   "metadata": {},
   "outputs": [],
   "source": [
    "# 7. Write a Python function to calculate the absolute value of a number without using the `abs()` function.\n",
    "def absolute_value(num):\n",
    "    if num < 0:\n",
    "        return -num\n",
    "    else:\n",
    "        return num\n",
    "\n",
    "number = float(input(\"Enter a number: \"))\n",
    "print(f\"The absolute value is {absolute_value(number)}\")"
   ]
  },
  {
   "cell_type": "code",
   "execution_count": null,
   "id": "93bca23b-62ee-4537-99f8-a8c86db9e25a",
   "metadata": {},
   "outputs": [],
   "source": [
    "# 8. Develop a program that determines the largest of three given numbers using if-else statements.\n",
    "num1 = float(input(\"Enter the first number: \"))\n",
    "num2 = float(input(\"Enter the second number: \"))\n",
    "num3 = float(input(\"Enter the third number: \"))\n",
    "\n",
    "if num1 >= num2 and num1 >= num3:\n",
    "    print(f\"{num1} is the largest number.\")\n",
    "elif num2 >= num1 and num2 >= num3:\n",
    "    print(f\"{num2} is the largest number.\")\n",
    "else:\n",
    "    print(f\"{num3} is the largest number.\")"
   ]
  },
  {
   "cell_type": "code",
   "execution_count": null,
   "id": "d390babf-548b-4917-98ac-9153a1c40992",
   "metadata": {},
   "outputs": [],
   "source": [
    "# 9. Create a program that checks if a given string is a palindrome.\n",
    "s = input(\"Enter a string: \")\n",
    "if s == s[::-1]:\n",
    "    print(\"The string is a palindrome.\")\n",
    "else:\n",
    "    print(\"The string is not a palindrome.\")"
   ]
  },
  {
   "cell_type": "code",
   "execution_count": null,
   "id": "b9107cdc-8689-4997-8408-aaa5b2ba43c2",
   "metadata": {},
   "outputs": [],
   "source": [
    "# 10. Write a Python program to calculate the grade based on a student's score.\n",
    "score = float(input(\"Enter the student's score: \"))\n",
    "if score >= 90:\n",
    "    print(\"Grade A\")\n",
    "elif score >= 80:\n",
    "    print(\"Grade B\")\n",
    "elif score >= 70:\n",
    "    print(\"Grade C\")\n",
    "elif score >= 60:\n",
    "    print(\"Grade D\")\n",
    "else:\n",
    "    print(\"Grade F\")\n"
   ]
  },
  {
   "cell_type": "code",
   "execution_count": null,
   "id": "4312c09b-18d8-42c4-8df0-3ae620307b26",
   "metadata": {},
   "outputs": [],
   "source": [
    "# Nested If-Else Statements\n"
   ]
  },
  {
   "cell_type": "code",
   "execution_count": null,
   "id": "b700aa06-4ce9-4b8b-bb32-16fc4970a524",
   "metadata": {},
   "outputs": [],
   "source": [
    "# 11. Write a program to find the largest among three numbers using nested if-else statements.\n",
    "num1 = float(input(\"Enter the first number: \"))\n",
    "num2 = float(input(\"Enter the second number: \"))\n",
    "num3 = float(input(\"Enter the third number: \"))\n",
    "\n",
    "if num1 >= num2:\n",
    "    if num1 >= num3:\n",
    "        print(f\"{num1} is the largest number.\")\n",
    "    else:\n",
    "        print(f\"{num3} is the largest number.\")\n",
    "else:\n",
    "    if num2 >= num3:\n",
    "        print(f\"{num2} is the largest number.\")\n",
    "    else:\n",
    "        print(f\"{num3} is the largest number.\")"
   ]
  },
  {
   "cell_type": "code",
   "execution_count": null,
   "id": "ee93d835-b7db-4dec-8c27-06396c22bcb7",
   "metadata": {},
   "outputs": [],
   "source": [
    "# 12. Implement a program to determine if a triangle is equilateral, isosceles, or scalene.\n",
    "a = float(input(\"Enter the length of the first side: \"))\n",
    "b = float(input(\"Enter the length of the second side: \"))\n",
    "c = float(input(\"Enter the length of the third side: \"))\n",
    "\n",
    "if a == b and b == c:\n",
    "    print(\"The triangle is equilateral.\")\n",
    "elif a == b or b == c or a == c:\n",
    "    print(\"The triangle is isosceles.\")\n",
    "else:\n",
    "    print(\"The triangle is scalene.\")\n"
   ]
  },
  {
   "cell_type": "code",
   "execution_count": null,
   "id": "c7e8da96-bf06-4dae-8610-efe453413c5f",
   "metadata": {},
   "outputs": [],
   "source": [
    "# 13. Develop a program that checks if a year is a leap year and also if it is a century year.\n",
    "year = int(input(\"Enter a year: \"))\n",
    "\n",
    "if year % 4 == 0:\n",
    "    if year % 100 == 0:\n",
    "        if year % 400 == 0:\n",
    "            print(f\"{year} is a leap year and a century year.\")\n",
    "        else:\n",
    "            print(f\"{year} is a century year but not a leap year.\")\n",
    "    else:\n",
    "        print(f\"{year} is a leap year.\")\n",
    "else:\n",
    "    print(f\"{year} is not a leap year.\")"
   ]
  },
  {
   "cell_type": "code",
   "execution_count": null,
   "id": "7ad961c8-a358-40c9-a584-b6e4df93f810",
   "metadata": {},
   "outputs": [],
   "source": [
    "# 14. Write a Python script to determine if a number is positive, negative, or zero.\n",
    "number = float(input(\"Enter a number: \"))\n",
    "\n",
    "if number > 0:\n",
    "    print(\"The number is positive.\")\n",
    "elif number < 0:\n",
    "    print(\"The number is negative.\")\n",
    "else:\n",
    "    print(\"The number is zero.\")"
   ]
  },
  {
   "cell_type": "code",
   "execution_count": null,
   "id": "6e8512bf-56b7-4b06-935b-7f0ad0094ffc",
   "metadata": {},
   "outputs": [],
   "source": [
    "# 15. Create a program to check if a person is a teenager (between 13 and 19 years old).\n",
    "age = int(input(\"Enter your age: \"))\n",
    "    \n",
    "if 13 <= age <= 19:\n",
    "    print(\"You are a teenager.\")\n",
    "else:\n",
    "    print(\"You are not a teenager.\")\n"
   ]
  },
  {
   "cell_type": "code",
   "execution_count": null,
   "id": "969d9825-5e8c-4382-81dd-19b040d8be1c",
   "metadata": {},
   "outputs": [],
   "source": [
    "# 16. Develop a program that determines the type of angle based on its measure (acute, obtuse, or right).\n",
    "angle = float(input(\"Enter the angle in degrees: \"))\n",
    "\n",
    "if angle < 90:\n",
    "    print(\"The angle is acute.\")\n",
    "elif angle == 90:\n",
    "    print(\"The angle is right.\")\n",
    "elif angle > 90 and angle < 180:\n",
    "    print(\"The angle is obtuse.\")\n",
    "else:\n",
    "    print(\"The angle is not valid.\")"
   ]
  },
  {
   "cell_type": "code",
   "execution_count": null,
   "id": "213b86f0-0fc6-4a8e-9b7e-7891f51f40d4",
   "metadata": {},
   "outputs": [],
   "source": [
    "# 17. Write a Python program to calculate the roots of a quadratic equation.\n",
    "import math\n",
    "\n",
    "a = float(input(\"Enter coefficient a: \"))\n",
    "b = float(input(\"Enter coefficient b: \"))\n",
    "c = float(input(\"Enter coefficient c: \"))\n",
    "\n",
    "discriminant = b**2 - 4*a*c\n",
    "\n",
    "if discriminant > 0:\n",
    "    root1 = (-b + math.sqrt(discriminant)) / (2*a)\n",
    "    root2 = (-b - math.sqrt(discriminant)) / (2*a)\n",
    "    print(f\"Two real and distinct roots: {root1} and {root2}\")\n",
    "elif discriminant == 0:\n",
    "    root = -b / (2*a)\n",
    "    print(f\"One real root: {root}\")\n",
    "else:\n",
    "    print(\"Complex roots.\")"
   ]
  },
  {
   "cell_type": "code",
   "execution_count": null,
   "id": "c1d159a3-993e-4f44-9400-5b9395d0dee5",
   "metadata": {},
   "outputs": [],
   "source": [
    "# 18. Implement a program to determine the day of the week based on a user-provided number (1 for Monday, 2 for Tuesday, etc.).\n",
    "day_number = int(input(\"Enter a number (1-7): \"))\n",
    "\n",
    "if day_number == 1:\n",
    "    print(\"Monday\")\n",
    "elif day_number == 2:\n",
    "    print(\"Tuesday\")\n",
    "elif day_number == 3:\n",
    "    print(\"Wednesday\")\n",
    "elif day_number == 4:\n",
    "    print(\"Thursday\")\n",
    "elif day_number == 5:\n",
    "    print(\"Friday\")\n",
    "elif day_number == 6:\n",
    "    print(\"Saturday\")\n",
    "elif day_number == 7:\n",
    "    print(\"Sunday\")\n",
    "else:\n",
    "    print(\"Invalid input.\")"
   ]
  },
  {
   "cell_type": "code",
   "execution_count": null,
   "id": "bb63ce56-6c12-4ab1-b6ac-3d03cd18ed26",
   "metadata": {},
   "outputs": [],
   "source": [
    "# 19. Create a program that determines if a year is a leap year and also if it is evenly divisible by 400.\n",
    "year = int(input(\"Enter a year: \"))\n",
    "\n",
    "if year % 4 == 0:\n",
    "    if year % 100 == 0:\n",
    "        if year % 400 == 0:\n",
    "            print(f\"{year} is a leap year and divisible by 400.\")\n",
    "        else:\n",
    "            print(f\"{year} is a leap year but not divisible by 400.\")\n",
    "    else:\n",
    "        print(f\"{year} is a leap year.\")\n",
    "else:\n",
    "    print(f\"{year} is not a leap year.\")"
   ]
  },
  {
   "cell_type": "code",
   "execution_count": null,
   "id": "45f3fd88-1834-4e34-9fbb-2aaa0369a86f",
   "metadata": {},
   "outputs": [],
   "source": [
    "# 20. Develop a program that checks if a given number is prime or not using nested if-else statements.\n",
    "num = int(input(\"Enter a number: \"))\n",
    "\n",
    "if num > 1:\n",
    "    for i in range(2, int(num**0.5) + 1):\n",
    "        if num % i == 0:\n",
    "            print(f\"{num} is not a prime number.\")\n",
    "            break\n",
    "    else:\n",
    "        print(f\"{num} is a prime number.\")\n",
    "else:\n",
    "    print(f\"{num} is not a prime number.\")"
   ]
  },
  {
   "cell_type": "code",
   "execution_count": null,
   "id": "ddafbfba-dcd8-4d31-93ae-b1fc4342880a",
   "metadata": {},
   "outputs": [],
   "source": [
    "#        Elif Statements"
   ]
  },
  {
   "cell_type": "code",
   "execution_count": null,
   "id": "cdfec321-60e9-4c9b-8019-0b4a5cd999b1",
   "metadata": {},
   "outputs": [],
   "source": [
    "# 21. Write a Python program to assign grades based on different ranges of scores using elif statements.\n",
    "score = float(input(\"Enter the score: \"))\n",
    "\n",
    "if score >= 90:\n",
    "    grade = \"A\"\n",
    "elif score >= 80:\n",
    "    grade = \"B\"\n",
    "elif score >= 70:\n",
    "    grade = \"C\"\n",
    "elif score >= 60:\n",
    "    grade = \"D\"\n",
    "else:\n",
    "    grade = \"F\"\n",
    "\n",
    "print(f\"Grade: {grade}\")"
   ]
  },
  {
   "cell_type": "code",
   "execution_count": null,
   "id": "468db4ed-b2b5-4d5b-9d75-72f02c904a1d",
   "metadata": {},
   "outputs": [],
   "source": [
    "# 22. Implement a program to determine the type of a triangle based on its angles.\n",
    "angle1 = float(input(\"Enter the first angle: \"))\n",
    "angle2 = float(input(\"Enter the second angle: \"))\n",
    "angle3 = float(input(\"Enter the third angle: \"))\n",
    "\n",
    "if angle1 + angle2 + angle3 == 180:\n",
    "    if angle1 < 90 and angle2 < 90 and angle3 < 90:\n",
    "        print(\"The triangle is acute.\")\n",
    "    elif angle1 == 90 or angle2 == 90 or angle3 == 90:\n",
    "        print(\"The triangle is right.\")\n",
    "    else:\n",
    "        print(\"The triangle is obtuse.\")\n",
    "else:\n",
    "    print(\"The angles do not form a valid triangle.\")"
   ]
  },
  {
   "cell_type": "code",
   "execution_count": null,
   "id": "b1af9dc9-df05-4850-91ae-f4d8deaaa8f1",
   "metadata": {},
   "outputs": [],
   "source": [
    "# 23. Develop a program to categorize a given person's BMI into underweight, normal, overweight, or obese using elif statements.\n",
    "weight = float(input(\"Enter your weight (kg): \"))\n",
    "height = float(input(\"Enter your height (m): \"))\n",
    "bmi = weight / (height ** 2)\n",
    "\n",
    "if bmi < 18.5:\n",
    "    category = \"Underweight\"\n",
    "elif 18.5 <= bmi < 24.9:\n",
    "    category = \"Normal weight\"\n",
    "elif 25 <= bmi < 29.9:\n",
    "    category = \"Overweight\"\n",
    "else:\n",
    "    category = \"Obese\"\n",
    "\n",
    "print(f\"BMI Category: {category}\")"
   ]
  },
  {
   "cell_type": "code",
   "execution_count": null,
   "id": "20db88ea-b2a6-4cba-809b-8bc898bcc9f0",
   "metadata": {},
   "outputs": [],
   "source": [
    "# 24. Create a program that determines whether a given number is positive, negative, or zero using elif statements.\n",
    "number = float(input(\"Enter a number: \"))\n",
    "\n",
    "if number > 0:\n",
    "    print(\"The number is positive.\")\n",
    "elif number < 0:\n",
    "    print(\"The number is negative.\")\n",
    "else:\n",
    "    print(\"The number is zero.\")"
   ]
  },
  {
   "cell_type": "code",
   "execution_count": null,
   "id": "a5622734-499d-46c9-9944-72e696f48447",
   "metadata": {},
   "outputs": [],
   "source": [
    "# 25. Write a Python script to determine the type of a character (uppercase, lowercase, or special) using elif statements.\n",
    "char = input(\"Enter a character: \")\n",
    "\n",
    "if char.isupper():\n",
    "    print(\"The character is uppercase.\")\n",
    "elif char.islower():\n",
    "    print(\"The character is lowercase.\")\n",
    "else:\n",
    "    print(\"The character is special or numeric.\")"
   ]
  },
  {
   "cell_type": "code",
   "execution_count": null,
   "id": "264ed896-9d89-4679-98a4-2a9b5645684f",
   "metadata": {},
   "outputs": [],
   "source": [
    "# 26. Implement a program to calculate the discounted price based on different purchase amounts using elif statements.\n",
    "amount = float(input(\"Enter the purchase amount: \"))\n",
    "\n",
    "if amount >= 1000:\n",
    "    discount = 0.20\n",
    "elif amount >= 500:\n",
    "    discount = 0.10\n",
    "else:\n",
    "    discount = 0.05\n",
    "\n",
    "discounted_price = amount * (1 - discount)\n",
    "print(f\"Discounted Price: {discounted_price}\")"
   ]
  },
  {
   "cell_type": "code",
   "execution_count": null,
   "id": "312d6de0-2090-4138-9fa5-de42bdcece80",
   "metadata": {},
   "outputs": [],
   "source": [
    "# 27. Develop a program to calculate the electricity bill based on different consumption slabs using elif statements.\n",
    "units = float(input(\"Enter the number of units consumed: \"))\n",
    "\n",
    "if units <= 100:\n",
    "    bill = units * 5\n",
    "elif units <= 200:\n",
    "    bill = units * 10\n",
    "elif units <= 300:\n",
    "    bill = units * 15\n",
    "else:\n",
    "    bill = units * 20\n",
    "\n",
    "print(f\"Electricity Bill: {bill}\")\n"
   ]
  },
  {
   "cell_type": "code",
   "execution_count": null,
   "id": "3084a235-998c-40c2-8130-0a33483c631d",
   "metadata": {},
   "outputs": [],
   "source": [
    "# 28. Create a program to determine the type of quadrilateral based on its angles and sides using elif statements.\n",
    "angle1 = float(input(\"Enter the first angle: \"))\n",
    "angle2 = float(input(\"Enter the second angle: \"))\n",
    "angle3 = float(input(\"Enter the third angle: \"))\n",
    "angle4 = float(input(\"Enter the fourth angle: \"))\n",
    "\n",
    "if angle1 + angle2 + angle3 + angle4 == 360:\n",
    "    if angle1 == angle2 == angle3 == angle4:\n",
    "        print(\"The quadrilateral is a square.\")\n",
    "    elif angle1 == angle3 and angle2 == angle4:\n",
    "        print(\"The quadrilateral is a rectangle.\")\n",
    "    else:\n",
    "        print(\"The quadrilateral is a general quadrilateral.\")\n",
    "else:\n",
    "    print(\"The angles do not form a valid quadrilateral.\")"
   ]
  },
  {
   "cell_type": "code",
   "execution_count": null,
   "id": "ecf76384-217f-44af-9d6e-b14ad82b24bd",
   "metadata": {},
   "outputs": [],
   "source": [
    "# 29. Write a Python script to determine the season based on a user-provided month using elif statements.\n",
    "month = int(input(\"Enter the month number (1-12): \"))\n",
    "\n",
    "if month in [12, 1, 2]:\n",
    "    print(\"It's winter.\")\n",
    "elif month in [3, 4, 5]:\n",
    "    print(\"It's spring.\")\n",
    "elif month in [6, 7, 8]:\n",
    "    print(\"It's summer.\")\n",
    "elif month in [9, 10, 11]:\n",
    "    print(\"It's autumn.\")\n",
    "else:\n",
    "    print(\"Invalid month.\")"
   ]
  },
  {
   "cell_type": "code",
   "execution_count": null,
   "id": "ea095db6-8359-4fd6-9e4e-5c426bff4919",
   "metadata": {},
   "outputs": [],
   "source": [
    "# 30. Implement a program to determine the type of a year (leap or common) and month (30 or 31 days) using elif statements.\n",
    "year = int(input(\"Enter a year: \"))\n",
    "month = int(input(\"Enter the month number (1-12): \"))\n",
    "\n",
    "if (year % 4 == 0 and year % 100 != 0) or (year % 400 == 0):\n",
    "    year_type = \"leap year\"\n",
    "else:\n",
    "    year_type = \"common year\"\n",
    "\n",
    "if month in [4, 6, 9, 11]:\n",
    "    days = 30\n",
    "elif month == 2:\n",
    "    days = 29 if year_type == \"leap year\" else 28\n",
    "else:\n",
    "    days = 31\n",
    "\n",
    "print(f\"{year} is a {year_type}. Month {month} has {days} days.\")"
   ]
  },
  {
   "cell_type": "code",
   "execution_count": null,
   "id": "818de2cf-6e88-44c3-9005-9c232c7628f2",
   "metadata": {},
   "outputs": [],
   "source": []
  },
  {
   "cell_type": "code",
   "execution_count": null,
   "id": "1aa1def0-8ef5-4aca-aff0-501801fe949f",
   "metadata": {},
   "outputs": [],
   "source": [
    "# Basic Level\n",
    "\n",
    "# 1. Write a Python program that checks if a given number is positive, negative, or zero.\n",
    "number = float(input(\"Enter a number: \"))\n",
    "if number > 0:\n",
    "    print(\"The number is positive.\")\n",
    "elif number < 0:\n",
    "    print(\"The number is negative.\")\n",
    "else:\n",
    "    print(\"The number is zero.\")"
   ]
  },
  {
   "cell_type": "code",
   "execution_count": null,
   "id": "ee9274cd-e0fc-4b41-86be-26c1e46f265c",
   "metadata": {},
   "outputs": [],
   "source": [
    "# 2. Create a program to determine if a person is eligible to vote based on their age.\n",
    "age = int(input(\"Enter your age: \"))\n",
    "if age >= 18:\n",
    "    print(\"You are eligible to vote.\")\n",
    "else:\n",
    "    print(\"You are not eligible to vote.\")"
   ]
  },
  {
   "cell_type": "code",
   "execution_count": null,
   "id": "bca1fd7b-efa5-44c6-a780-2707edd85a84",
   "metadata": {},
   "outputs": [],
   "source": [
    "# 3. Write a program to find the maximum of two given numbers using conditional statements.\n",
    "num1 = float(input(\"Enter the first number: \"))\n",
    "num2 = float(input(\"Enter the second number: \"))\n",
    "if num1 > num2:\n",
    "    print(f\"{num1} is the maximum number.\")\n",
    "else:\n",
    "    print(f\"{num2} is the maximum number.\")"
   ]
  },
  {
   "cell_type": "code",
   "execution_count": null,
   "id": "959df726-cabf-4f84-aac0-f01647462ca9",
   "metadata": {},
   "outputs": [],
   "source": [
    "# 4. Develop a program that calculates the grade of a student based on their exam score.\n",
    "score = float(input(\"Enter the exam score: \"))\n",
    "if score >= 90:\n",
    "    grade = \"A\"\n",
    "elif score >= 80:\n",
    "    grade = \"B\"\n",
    "elif score >= 70:\n",
    "    grade = \"C\"\n",
    "elif score >= 60:\n",
    "    grade = \"D\"\n",
    "else:\n",
    "    grade = \"F\"\n",
    "print(f\"Grade: {grade}\")"
   ]
  },
  {
   "cell_type": "code",
   "execution_count": null,
   "id": "c25c2bad-20b6-4928-9160-730035f6ccb5",
   "metadata": {},
   "outputs": [],
   "source": [
    "# 5. Create a program that checks if a year is a leap year or not.\n",
    "year = int(input(\"Enter a year: \"))\n",
    "if (year % 4 == 0 and year % 100 != 0) or (year % 400 == 0):\n",
    "    print(f\"{year} is a leap year.\")\n",
    "else:\n",
    "    print(f\"{year} is not a leap year.\")"
   ]
  },
  {
   "cell_type": "code",
   "execution_count": null,
   "id": "35868501-7b97-47b9-9994-d560402861c2",
   "metadata": {},
   "outputs": [],
   "source": [
    "# 6. Write a program to classify a triangle based on its sides' lengths.\n",
    "a = float(input(\"Enter the length of the first side: \"))\n",
    "b = float(input(\"Enter the length of the second side: \"))\n",
    "c = float(input(\"Enter the length of the third side: \"))\n",
    "if a == b == c:\n",
    "    print(\"The triangle is equilateral.\")\n",
    "elif a == b or b == c or a == c:\n",
    "    print(\"The triangle is isosceles.\")\n",
    "else:\n",
    "    print(\"The triangle is scalene.\")"
   ]
  },
  {
   "cell_type": "code",
   "execution_count": null,
   "id": "baa0f81a-7b59-406a-8cb9-63753d7e3e1a",
   "metadata": {},
   "outputs": [],
   "source": [
    "# 7. Build a program that determines the largest of three given numbers.\n",
    "num1 = float(input(\"Enter the first number: \"))\n",
    "num2 = float(input(\"Enter the second number: \"))\n",
    "num3 = float(input(\"Enter the third number: \"))\n",
    "if num1 >= num2 and num1 >= num3:\n",
    "    print(f\"{num1} is the largest number.\")\n",
    "elif num2 >= num1 and num2 >= num3:\n",
    "    print(f\"{num2} is the largest number.\")\n",
    "else:\n",
    "    print(f\"{num3} is the largest number.\")"
   ]
  },
  {
   "cell_type": "code",
   "execution_count": null,
   "id": "348ad9bc-bfc7-4d54-8ccc-426bbc2a5937",
   "metadata": {},
   "outputs": [],
   "source": [
    "# 8. Develop a program that checks whether a character is a vowel or a consonant.\n",
    "char = input(\"Enter a character: \").lower()\n",
    "if char in 'aeiou':\n",
    "    print(f\"{char} is a vowel.\")\n",
    "else:\n",
    "    print(f\"{char} is a consonant.\")"
   ]
  },
  {
   "cell_type": "code",
   "execution_count": null,
   "id": "913a26e2-3e60-49a7-9826-55ae65f9cc4e",
   "metadata": {},
   "outputs": [],
   "source": [
    "# 9. Create a program to calculate the total cost of a shopping cart based on discounts.\n",
    "total_amount = float(input(\"Enter the total amount: \"))\n",
    "if total_amount >= 1000:\n",
    "    discount = 0.20\n",
    "elif total_amount >= 500:\n",
    "    discount = 0.10\n",
    "else:\n",
    "    discount = 0.05\n",
    "discounted_total = total_amount * (1 - discount)\n",
    "print(f\"Total after discount: {discounted_total:.2f}\")"
   ]
  },
  {
   "cell_type": "code",
   "execution_count": null,
   "id": "198d5dd6-002a-4736-bf00-9dc30219630b",
   "metadata": {},
   "outputs": [],
   "source": [
    "# 10. Write a program that checks if a given number is even or odd.\n",
    "number = int(input(\"Enter a number: \"))\n",
    "if number % 2 == 0:\n",
    "    print(\"The number is even.\")\n",
    "else:\n",
    "    print(\"The number is odd.\")\n"
   ]
  },
  {
   "cell_type": "code",
   "execution_count": null,
   "id": "0ffdf03b-24eb-428c-aec7-99e8852f43e0",
   "metadata": {},
   "outputs": [],
   "source": []
  },
  {
   "cell_type": "code",
   "execution_count": null,
   "id": "1dda8cde-0829-4cca-ac43-2c67c096982e",
   "metadata": {},
   "outputs": [],
   "source": [
    "#      Intermediate Level"
   ]
  },
  {
   "cell_type": "code",
   "execution_count": null,
   "id": "7888c59a-aa62-48ca-8d52-a0f56768af1f",
   "metadata": {},
   "outputs": [],
   "source": [
    "# 11. Write a program that calculates the roots of a quadratic equation.\n",
    "import math\n",
    "\n",
    "a = float(input(\"Enter coefficient a: \"))\n",
    "b = float(input(\"Enter coefficient b: \"))\n",
    "c = float(input(\"Enter coefficient c: \"))\n",
    "\n",
    "discriminant = b**2 - 4*a*c\n",
    "\n",
    "if discriminant > 0:\n",
    "    root1 = (-b + math.sqrt(discriminant)) / (2*a)\n",
    "    root2 = (-b - math.sqrt(discriminant)) / (2*a)\n",
    "    print(f\"Two real and distinct roots: {root1} and {root2}\")\n",
    "elif discriminant == 0:\n",
    "    root = -b / (2*a)\n",
    "    print(f\"One real root: {root}\")\n",
    "else:\n",
    "    print(\"Complex roots.\")"
   ]
  },
  {
   "cell_type": "code",
   "execution_count": null,
   "id": "fd4c892b-5b33-47bb-81c9-2dd69441cc24",
   "metadata": {},
   "outputs": [],
   "source": [
    "# 12. Create a program that determines the day of the week based on the day number (1-7).\n",
    "day_number = int(input(\"Enter a number (1-7): \"))\n",
    "days = [\"Monday\", \"Tuesday\", \"Wednesday\", \"Thursday\", \"Friday\", \"Saturday\", \"Sunday\"]\n",
    "if 1 <= day_number <= 7:\n",
    "    print(days[day_number - 1])\n",
    "else:\n",
    "    print(\"Invalid input. Please enter a number between 1 and 7.\")"
   ]
  },
  {
   "cell_type": "code",
   "execution_count": null,
   "id": "9391a544-a4d8-4341-adc8-96d36c309d6a",
   "metadata": {},
   "outputs": [],
   "source": [
    "# 13. Develop a program that calculates the factorial of a given number using recursion.\n",
    "def factorial(n):\n",
    "    if n == 0:\n",
    "        return 1\n",
    "    else:\n",
    "        return n * factorial(n - 1)\n",
    "\n",
    "num = int(input(\"Enter a number: \"))\n",
    "print(f\"The factorial of {num} is {factorial(num)}\")"
   ]
  },
  {
   "cell_type": "code",
   "execution_count": null,
   "id": "968c9da8-1326-4af8-8ae6-0b972bdf1999",
   "metadata": {},
   "outputs": [],
   "source": [
    "# 14. Write a program to find the largest among three numbers without using the `max()` function.\n",
    "num1 = float(input(\"Enter the first number: \"))\n",
    "num2 = float(input(\"Enter the second number: \"))\n",
    "num3 = float(input(\"Enter the third number: \"))\n",
    "\n",
    "largest = num1\n",
    "if num2 > largest:\n",
    "    largest = num2\n",
    "if num3 > largest:\n",
    "    largest = num3\n",
    "print(f\"The largest number is {largest}\")"
   ]
  },
  {
   "cell_type": "code",
   "execution_count": null,
   "id": "f36fb7ec-c09a-445f-b595-0751ed0bf0a9",
   "metadata": {},
   "outputs": [],
   "source": [
    "# 15. Create a program that simulates a basic ATM transaction menu.\n",
    "print(\"ATM Menu:\")\n",
    "print(\"1. Check Balance\")\n",
    "print(\"2. Deposit\")\n",
    "print(\"3. Withdraw\")\n",
    "print(\"4. Exit\")\n",
    "\n",
    "balance = 1000\n",
    "\n",
    "while True:\n",
    "    choice = int(input(\"Choose an option (1-4): \"))\n",
    "    if choice == 1:\n",
    "        print(f\"Your balance is ${balance}\")\n",
    "    elif choice == 2:\n",
    "        amount = float(input(\"Enter amount to deposit: \"))\n",
    "        balance += amount\n",
    "        print(f\"Deposited ${amount}. New balance is ${balance}\")\n",
    "    elif choice == 3:\n",
    "        amount = float(input(\"Enter amount to withdraw: \"))\n",
    "        if amount <= balance:\n",
    "            balance -= amount\n",
    "            print(f\"Withdrew ${amount}. New balance is ${balance}\")\n",
    "        else:\n",
    "            print(\"Insufficient funds.\")\n",
    "    elif choice == 4:\n",
    "        print(\"Exiting...\")\n",
    "        break\n",
    "    else:\n",
    "        print(\"Invalid option. Please try again.\")"
   ]
  },
  {
   "cell_type": "code",
   "execution_count": null,
   "id": "df554d2a-a328-4a87-b36d-b446cda13599",
   "metadata": {},
   "outputs": [],
   "source": [
    "# 16. Build a program that checks if a given string is a palindrome or not.\n",
    "s = input(\"Enter a string: \")\n",
    "if s == s[::-1]:\n",
    "    print(\"The string is a palindrome.\")\n",
    "else:\n",
    "    print(\"The string is not a palindrome.\")"
   ]
  },
  {
   "cell_type": "code",
   "execution_count": null,
   "id": "08203bdf-1df0-4a68-a54d-f2bc79815412",
   "metadata": {},
   "outputs": [],
   "source": [
    "# 17. Write a program that calculates the average of a list of numbers, excluding the smallest and largest values.\n",
    "numbers = list(map(float, input(\"Enter numbers separated by spaces: \").split()))\n",
    "if len(numbers) > 2:\n",
    "    numbers.sort()\n",
    "    average = sum(numbers[1:-1]) / (len(numbers) - 2)\n",
    "    print(f\"The average excluding the smallest and largest values is {average:.2f}\")\n",
    "else:\n",
    "    print(\"Not enough numbers to exclude the smallest and largest values.\")"
   ]
  },
  {
   "cell_type": "code",
   "execution_count": null,
   "id": "ecd3888e-9d90-4610-975b-8427652662c5",
   "metadata": {},
   "outputs": [],
   "source": [
    "# 18. Develop a program that converts a given temperature from Celsius to Fahrenheit.\n",
    "celsius = float(input(\"Enter temperature in Celsius: \"))\n",
    "fahrenheit = (celsius * 9/5) + 32\n",
    "print(f\"Temperature in Fahrenheit: {fahrenheit:.2f}\")"
   ]
  },
  {
   "cell_type": "code",
   "execution_count": null,
   "id": "4d0500e4-fff9-408e-9416-29d2c12403a2",
   "metadata": {},
   "outputs": [],
   "source": [
    "# 19. Create a program that simulates a basic calculator for addition, subtraction, multiplication, and division.\n",
    "print(\"Basic Calculator\")\n",
    "print(\"1. Add\")\n",
    "print(\"2. Subtract\")\n",
    "print(\"3. Multiply\")\n",
    "print(\"4. Divide\")\n",
    "\n",
    "choice = int(input(\"Choose an option (1-4): \"))\n",
    "num1 = float(input(\"Enter the first number: \"))\n",
    "num2 = float(input(\"Enter the second number: \"))\n",
    "\n",
    "if choice == 1:\n",
    "    result = num1 + num2\n",
    "elif choice == 2:\n",
    "    result = num1 - num2\n",
    "elif choice == 3:\n",
    "    result = num1 * num2\n",
    "elif choice == 4:\n",
    "    if num2 != 0:\n",
    "        result = num1 / num2\n",
    "    else:\n",
    "        result = \"Cannot divide by zero.\"\n",
    "else:\n",
    "    result = \"Invalid choice.\"\n",
    "\n",
    "print(f\"Result: {result}\")"
   ]
  },
  {
   "cell_type": "code",
   "execution_count": null,
   "id": "b9326e3b-fea8-4159-ad14-9e324619176f",
   "metadata": {},
   "outputs": [],
   "source": [
    "# 20. Write a program that determines the roots of a cubic equation using the Cardano formula.\n",
    "def cubic_roots(a, b, c, d):\n",
    "    delta0 = b**2 - 3*a*c\n",
    "    delta1 = 2*b**3 - 9*a*b*c + 27*a**2*d\n",
    "    C = ((delta1 + (delta1**2 - 4*delta0**3)**0.5) / 2)**(1/3)\n",
    "    \n",
    "    if C == 0:\n",
    "        C = ((delta1 - (delta1**2 - 4*delta0**3)**0.5) / 2)**(1/3)\n",
    "    \n",
    "    xi = -1 / 2 + (3**0.5 * 1j) / 2\n",
    "    roots = []\n",
    "    for k in range(3):\n",
    "        root = -1 / (3*a) * (b + xi**k * C + delta0 / (xi**k * C))\n",
    "        roots.append(root)\n",
    "    return roots\n",
    "\n",
    "a = float(input(\"Enter coefficient a: \"))\n",
    "b = float(input(\"Enter coefficient b: \"))\n",
    "c = float(input(\"Enter coefficient c: \"))\n",
    "d = float(input(\"Enter coefficient d: \"))\n",
    "\n",
    "roots = cubic_roots(a, b, c, d)\n",
    "print(f\"The roots of the cubic equation are: {roots}\")"
   ]
  },
  {
   "cell_type": "code",
   "execution_count": null,
   "id": "72865cc6-6fce-4d89-893b-e8fa34743566",
   "metadata": {},
   "outputs": [],
   "source": []
  },
  {
   "cell_type": "code",
   "execution_count": null,
   "id": "e3a52aca-3181-44d4-88dd-e634c8adf78c",
   "metadata": {},
   "outputs": [],
   "source": [
    "# # Advanced Level"
   ]
  },
  {
   "cell_type": "code",
   "execution_count": null,
   "id": "0c177dc7-7930-432d-ad38-c7fa498957de",
   "metadata": {},
   "outputs": [],
   "source": [
    "# 21. Create a program that calculates the income tax based on the user's income and tax brackets.\n",
    "income = float(input(\"Enter your income: \"))\n",
    "\n",
    "if income <= 9875:\n",
    "    tax = income * 0.10\n",
    "elif income <= 40125:\n",
    "    tax = 987.50 + (income - 9875) * 0.12\n",
    "elif income <= 85525:\n",
    "    tax = 4617.50 + (income - 40125) * 0.22\n",
    "elif income <= 163300:\n",
    "    tax = 14605.50 + (income - 85525) * 0.24\n",
    "elif income <= 207350:\n",
    "    tax = 33271.50 + (income - 163300) * 0.32\n",
    "elif income <= 518400:\n",
    "    tax = 47367.50 + (income - 207350) * 0.35\n",
    "else:\n",
    "    tax = 156235 + (income - 518400) * 0.37\n",
    "\n",
    "print(f\"Income Tax: ${tax:.2f}\")"
   ]
  },
  {
   "cell_type": "code",
   "execution_count": null,
   "id": "85c0abd6-49cb-43be-86b1-a5a7ca420c36",
   "metadata": {},
   "outputs": [],
   "source": [
    "# 22. Write a program that simulates a rock-paper-scissors game against the computer.\n",
    "import random\n",
    "\n",
    "options = [\"rock\", \"paper\", \"scissors\"]\n",
    "computer_choice = random.choice(options)\n",
    "user_choice = input(\"Enter rock, paper, or scissors: \").lower()\n",
    "\n",
    "if user_choice not in options:\n",
    "    print(\"Invalid choice.\")\n",
    "else:\n",
    "    print(f\"Computer chose: {computer_choice}\")\n",
    "    if user_choice == computer_choice:\n",
    "        print(\"It's a tie!\")\n",
    "    elif (user_choice == \"rock\" and computer_choice == \"scissors\") or \\\n",
    "         (user_choice == \"paper\" and computer_choice == \"rock\") or \\\n",
    "         (user_choice == \"scissors\" and computer_choice == \"paper\"):\n",
    "        print(\"You win!\")\n",
    "    else:\n",
    "        print(\"You lose.\")"
   ]
  },
  {
   "cell_type": "code",
   "execution_count": null,
   "id": "0c864456-98b9-42f1-b707-76e6c1cc759a",
   "metadata": {},
   "outputs": [],
   "source": [
    "# 23. Develop a program that generates a random password based on user preferences (length, complexity).\n",
    "import random\n",
    "import string\n",
    "\n",
    "length = int(input(\"Enter the desired password length: \"))\n",
    "complexity = input(\"Include special characters? (yes/no): \").lower()\n",
    "\n",
    "characters = string.ascii_letters + string.digits\n",
    "if complexity == \"yes\":\n",
    "    characters += string.punctuation\n",
    "\n",
    "password = ''.join(random.choice(characters) for _ in range(length))\n",
    "print(f\"Generated password: {password}\")"
   ]
  },
  {
   "cell_type": "code",
   "execution_count": null,
   "id": "d61462ae-0ee9-451c-914e-8530d1915bb9",
   "metadata": {},
   "outputs": [],
   "source": [
    "# 24. Create a program that implements a simple text-based adventure game with branching scenarios.\n",
    "print(\"You are in a forest. There are two paths: left and right.\")\n",
    "choice = input(\"Do you go left or right? \").lower()\n",
    "\n",
    "if choice == \"left\":\n",
    "    print(\"You find a treasure chest. Congratulations!\")\n",
    "elif choice == \"right\":\n",
    "    print(\"You encounter a wild animal. Run away!\")\n",
    "else:\n",
    "    print(\"Invalid choice.\")"
   ]
  },
  {
   "cell_type": "code",
   "execution_count": null,
   "id": "4e16cb3a-cc2e-4776-9734-d31b4a0306fa",
   "metadata": {},
   "outputs": [],
   "source": [
    "# 25. Build a program that solves a linear equation for x, considering different cases.\n",
    "print(\"Solving linear equation ax + b = 0\")\n",
    "a = float(input(\"Enter coefficient a: \"))\n",
    "b = float(input(\"Enter coefficient b: \"))\n",
    "\n",
    "if a == 0:\n",
    "    if b == 0:\n",
    "        print(\"Infinite solutions.\")\n",
    "    else:\n",
    "        print(\"No solution.\")\n",
    "else:\n",
    "    x = -b / a\n",
    "    print(f\"Solution: x = {x}\")"
   ]
  },
  {
   "cell_type": "code",
   "execution_count": null,
   "id": "74e2dbde-3bef-4f58-947b-ad141f8dc302",
   "metadata": {},
   "outputs": [],
   "source": [
    "# 26. Write a program that simulates a basic quiz game with multiple-choice questions and scoring.\n",
    "score = 0\n",
    "\n",
    "print(\"Quiz Game\")\n",
    "print(\"1. What is the capital of France?\")\n",
    "print(\"a. Paris\")\n",
    "print(\"b. Rome\")\n",
    "print(\"c. Berlin\")\n",
    "answer = input(\"Choose an option (a-c): \")\n",
    "if answer == 'a':\n",
    "    score += 1\n",
    "\n",
    "print(\"2. What is 2 + 2?\")\n",
    "print(\"a. 3\")\n",
    "print(\"b. 4\")\n",
    "print(\"c. 5\")\n",
    "answer = input(\"Choose an option (a-c): \")\n",
    "if answer == 'b':\n",
    "    score += 1\n",
    "\n",
    "print(f\"Your score is {score}/2\")"
   ]
  },
  {
   "cell_type": "code",
   "execution_count": null,
   "id": "7645f9b3-d060-45b5-b230-da48589d0c07",
   "metadata": {},
   "outputs": [],
   "source": [
    "# 27. Develop a program that determines whether a given year is a prime number or not.\n",
    "def is_prime(year):\n",
    "    if year <= 1:\n",
    "        return False\n",
    "    for i in range(2, int(year**0.5) + 1):\n",
    "        if year % i == 0:\n",
    "            return False\n",
    "    return True\n",
    "\n",
    "year = int(input(\"Enter a year: \"))\n",
    "if is_prime(year):\n",
    "    print(f\"{year} is a prime year.\")\n",
    "else:\n",
    "    print(f\"{year} is not a prime year.\")"
   ]
  },
  {
   "cell_type": "code",
   "execution_count": null,
   "id": "48bf9df3-0848-46e2-9b80-fd6036faddbf",
   "metadata": {},
   "outputs": [],
   "source": [
    "# 28. Create a program that sorts three numbers in ascending order using conditional statements.\n",
    "num1 = float(input(\"Enter the first number: \"))\n",
    "num2 = float(input(\"Enter the second number: \"))\n",
    "num3 = float(input(\"Enter the third number: \"))\n",
    "\n",
    "if num1 > num2:\n",
    "    num1, num2 = num2, num1\n",
    "if num1 > num3:\n",
    "    num1, num3 = num3, num1\n",
    "if num2 > num3:\n",
    "    num2, num3 = num3, num2\n",
    "\n",
    "print(f\"Numbers in ascending order: {num1}, {num2}, {num3}\")"
   ]
  },
  {
   "cell_type": "code",
   "execution_count": null,
   "id": "a0b9cd18-a574-4645-99fa-46c9f4d9441a",
   "metadata": {},
   "outputs": [],
   "source": [
    "# 29. Build a program that determines the roots of a quartic equation using numerical methods.\n",
    "\n",
    "def quartic_roots(coeffs):\n",
    "    from scipy.optimize import fsolve\n",
    "    def equation(x):\n",
    "        return (coeffs[0] * x**4 + coeffs[1] * x**3 + coeffs[2] * x**2 + coeffs[3] * x + coeffs[4])\n",
    "    \n",
    "    initial_guesses = [0, 1, -1, 2]\n",
    "    roots = fsolve(equation, initial_guesses)\n",
    "    return roots\n",
    "\n",
    "coeffs = [float(input(f\"Enter coefficient {i}: \")) for i in range(5)]\n",
    "roots = quartic_roots(coeffs)\n",
    "print(f\"The roots of the quartic equation are: {roots}\")"
   ]
  },
  {
   "cell_type": "code",
   "execution_count": null,
   "id": "f343ecf6-2996-4920-8f66-99027ef9aa4f",
   "metadata": {},
   "outputs": [],
   "source": [
    "# 30. Write a program that calculates the BMI (Body Mass Index) and provides health recommendations based on the user's input.\n",
    "weight = float(input(\"Enter your weight (kg): \"))\n",
    "height = float(input(\"Enter your height (m): \"))\n",
    "bmi = weight / (height ** 2)\n",
    "\n",
    "if bmi < 18.5:\n",
    "    status = \"Underweight\"\n",
    "elif 18.5 <= bmi < 24.9:\n",
    "    status = \"Normal weight\"\n",
    "elif 25 <= bmi < 29.9:\n",
    "    status = \"Overweight\"\n",
    "else:\n",
    "    status = \"Obese\"\n",
    "\n",
    "print(f\"Your BMI is {bmi:.2f}, which is considered {status}.\")"
   ]
  },
  {
   "cell_type": "code",
   "execution_count": null,
   "id": "6ce98203-8825-451e-aa67-5752b27728d7",
   "metadata": {},
   "outputs": [],
   "source": []
  },
  {
   "cell_type": "code",
   "execution_count": null,
   "id": "cd8f6aa7-1910-4a30-bfe1-e9fa07e9d71b",
   "metadata": {},
   "outputs": [],
   "source": [
    "# Challenge Level"
   ]
  },
  {
   "cell_type": "code",
   "execution_count": null,
   "id": "9bd77d31-75e3-4a41-8683-d20f139193d6",
   "metadata": {},
   "outputs": [],
   "source": [
    "# 31. Create a program that validates a password based on complexity rules (length, characters, etc.).\n",
    "import re\n",
    "\n",
    "password = input(\"Enter a password: \")\n",
    "if len(password) < 8:\n",
    "    print(\"Password must be at least 8 characters long.\")\n",
    "elif not re.search(r\"[a-z]\", password):\n",
    "    print(\"Password must contain at least one lowercase letter.\")\n",
    "elif not re.search(r\"[A-Z]\", password):\n",
    "    print(\"Password must contain at least one uppercase letter.\")\n",
    "elif not re.search(r\"[0-9]\", password):\n",
    "    print(\"Password must contain at least one digit.\")\n",
    "elif not re.search(r\"[!@#$%^&*()_+]\", password):\n",
    "    print(\"Password must contain at least one special character.\")\n",
    "else:\n",
    "    print(\"Password is valid.\")"
   ]
  },
  {
   "cell_type": "code",
   "execution_count": null,
   "id": "f43f932c-7bd5-4444-a2a4-805f22db566f",
   "metadata": {},
   "outputs": [],
   "source": [
    "# 32. Develop a program that performs matrix addition and subtraction based on user input.\n",
    "import numpy as np\n",
    "\n",
    "def matrix_operations():\n",
    "    print(\"Enter matrix A:\")\n",
    "    rows_a = int(input(\"Enter number of rows: \"))\n",
    "    cols_a = int(input(\"Enter number of columns: \"))\n",
    "    matrix_a = []\n",
    "    for i in range(rows_a):\n",
    "        row = list(map(float, input(f\"Enter row {i+1} values separated by space: \").split()))\n",
    "        matrix_a.append(row)\n",
    "    \n",
    "    print(\"Enter matrix B:\")\n",
    "    rows_b = int(input(\"Enter number of rows: \"))\n",
    "    cols_b = int(input(\"Enter number of columns: \"))\n",
    "    matrix_b = []\n",
    "    for i in range(rows_b):\n",
    "        row = list(map(float, input(f\"Enter row {i+1} values separated by space: \").split()))\n",
    "        matrix_b.append(row)\n",
    "    \n",
    "    if rows_a != rows_b or cols_a != cols_b:\n",
    "        print(\"Matrices must be of the same dimensions for addition/subtraction.\")\n",
    "        return\n",
    "    \n",
    "    matrix_a = np.array(matrix_a)\n",
    "    matrix_b = np.array(matrix_b)\n",
    "    \n",
    "    addition = matrix_a + matrix_b\n",
    "    subtraction = matrix_a - matrix_b\n",
    "    \n",
    "    print(\"Matrix A + Matrix B:\")\n",
    "    print(addition)\n",
    "    \n",
    "    print(\"Matrix A - Matrix B:\")\n",
    "    print(subtraction)\n",
    "\n",
    "matrix_operations()"
   ]
  },
  {
   "cell_type": "code",
   "execution_count": null,
   "id": "5d9ab010-715b-46d4-8125-763a14eb55aa",
   "metadata": {},
   "outputs": [],
   "source": [
    "# 33. Write a program that calculates the greatest common divisor (GCD) of two numbers using the Euclidean algorithm.\n",
    "def gcd(a, b):\n",
    "    while b != 0:\n",
    "        a, b = b, a % b\n",
    "    return a\n",
    "\n",
    "num1 = int(input(\"Enter the first number: \"))\n",
    "num2 = int(input(\"Enter the second number: \"))\n",
    "\n",
    "print(f\"The GCD of {num1} and {num2} is {gcd(num1, num2)}\")"
   ]
  },
  {
   "cell_type": "code",
   "execution_count": null,
   "id": "d9467ae6-3597-4655-91e3-db50f0f67f7b",
   "metadata": {},
   "outputs": [],
   "source": [
    "# 34. Build a program that performs matrix multiplication using nested loops and conditional statements.\n",
    "def matrix_multiplication():\n",
    "    print(\"Enter matrix A:\")\n",
    "    rows_a = int(input(\"Enter number of rows: \"))\n",
    "    cols_a = int(input(\"Enter number of columns: \"))\n",
    "    matrix_a = []\n",
    "    for i in range(rows_a):\n",
    "        row = list(map(float, input(f\"Enter row {i+1} values separated by space: \").split()))\n",
    "        matrix_a.append(row)\n",
    "    \n",
    "    print(\"Enter matrix B:\")\n",
    "    rows_b = int(input(\"Enter number of rows: \"))\n",
    "    cols_b = int(input(\"Enter number of columns: \"))\n",
    "    \n",
    "    if cols_a != rows_b:\n",
    "        print(\"Invalid dimensions for matrix multiplication.\")\n",
    "        return\n",
    "    \n",
    "    matrix_b = []\n",
    "    for i in range(rows_b):\n",
    "        row = list(map(float, input(f\"Enter row {i+1} values separated by space: \").split()))\n",
    "        matrix_b.append(row)\n",
    "    \n",
    "    result = [[0 for _ in range(cols_b)] for _ in range(rows_a)]\n",
    "    \n",
    "    for i in range(rows_a):\n",
    "        for j in range(cols_b):\n",
    "            for k in range(cols_a):\n",
    "                result[i][j] += matrix_a[i][k] * matrix_b[k][j]\n",
    "    \n",
    "    print(\"Matrix A * Matrix B:\")\n",
    "    for row in result:\n",
    "        print(row)\n",
    "\n",
    "matrix_multiplication()"
   ]
  },
  {
   "cell_type": "code",
   "execution_count": null,
   "id": "1f7f4166-58e2-4aec-9af1-3d6c64be68f6",
   "metadata": {},
   "outputs": [],
   "source": [
    "# 35. Create a program that simulates a basic text-based tic-tac-toe game against the computer.\n",
    "def print_board(board):\n",
    "    for row in board:\n",
    "        print(\" | \".join(row))\n",
    "        print(\"-\" * 5)\n",
    "\n",
    "def check_winner(board, player):\n",
    "    win_conditions = [\n",
    "        [board[0][0], board[0][1], board[0][2]],\n",
    "        [board[1][0], board[1][1], board[1][2]],\n",
    "        [board[2][0], board[2][1], board[2][2]],\n",
    "        [board[0][0], board[1][0], board[2][0]],\n",
    "        [board[0][1], board[1][1], board[2][1]],\n",
    "        [board[0][2], board[1][2], board[2][2]],\n",
    "        [board[0][0], board[1][1], board[2][2]],\n",
    "        [board[2][0], board[1][1], board[0][2]]\n",
    "    ]\n",
    "    return [player, player, player] in win_conditions\n",
    "\n",
    "def tic_tac_toe():\n",
    "    board = [[\" \" for _ in range(3)] for _ in range(3)]\n",
    "    print_board(board)\n",
    "    \n",
    "    for turn in range(9):\n",
    "        if turn % 2 == 0:\n",
    "            player = \"X\"\n",
    "            row = int(input(\"Player X, enter row (0-2): \"))\n",
    "            col = int(input(\"Player X, enter column (0-2): \"))\n",
    "        else:\n",
    "            player = \"O\"\n",
    "            row = random.randint(0, 2)\n",
    "            col = random.randint(0, 2)\n",
    "            print(f\"Player O (computer) chooses row {row}, column {col}\")\n",
    "        \n",
    "        if board[row][col] == \" \":\n",
    "            board[row][col] = player\n",
    "        else:\n",
    "            print(\"Cell already occupied. Try again.\")\n",
    "            continue\n",
    "        \n",
    "        print_board(board)\n",
    "        \n",
    "        if check_winner(board, player):\n",
    "            print(f\"Player {player} wins!\")\n",
    "            return\n",
    "    \n",
    "    print(\"It's a tie!\")\n",
    "\n",
    "tic_tac_toe()"
   ]
  },
  {
   "cell_type": "code",
   "execution_count": null,
   "id": "579f0875-f293-46d2-8b27-9f60b6ec33fb",
   "metadata": {},
   "outputs": [],
   "source": [
    "# 36. Write a program that generates Fibonacci numbers up to a specified term using iterative methods.\n",
    "n = int(input(\"Enter the number of terms: \"))\n",
    "\n",
    "def fibonacci(n):\n",
    "    fib_sequence = [0, 1]\n",
    "    while len(fib_sequence) < n:\n",
    "        fib_sequence.append(fib_sequence[-1] + fib_sequence[-2])\n",
    "    return fib_sequence\n",
    "\n",
    "print(f\"Fibonacci sequence up to {n} terms: {fibonacci(n)}\")"
   ]
  },
  {
   "cell_type": "code",
   "execution_count": null,
   "id": "a0560044-3705-408c-b8d4-5d5ecc8ef032",
   "metadata": {},
   "outputs": [],
   "source": [
    "# 37. Develop a program that calculates the nth term of the Fibonacci sequence using memoization.\n",
    "def fibonacci_memo(n, memo={0: 0, 1: 1}):\n",
    "    if n not in memo:\n",
    "        memo[n] = fibonacci_memo(n - 1) + fibonacci_memo(n - 2)\n",
    "    return memo[n]\n",
    "\n",
    "n = int(input(\"Enter the term number: \"))\n",
    "print(f\"The {n}th Fibonacci number is {fibonacci_memo(n)}\")"
   ]
  },
  {
   "cell_type": "code",
   "execution_count": null,
   "id": "7815dc0b-14d1-419f-aba1-b8087776e637",
   "metadata": {},
   "outputs": [],
   "source": [
    "# 38. Create a program that generates a calendar for a given month and year using conditional statements.\n",
    "import calendar\n",
    "\n",
    "year = int(input(\"Enter the year: \"))\n",
    "month = int(input(\"Enter the month (1-12): \"))\n",
    "\n",
    "print(calendar.month(year, month))\n"
   ]
  },
  {
   "cell_type": "code",
   "execution_count": null,
   "id": "6973f192-a07b-4674-9fbd-1c1d526a8eec",
   "metadata": {},
   "outputs": [],
   "source": [
    "# 39. Build a program that simulates a basic text-based blackjack game against the computer.\n",
    "import random\n",
    "\n",
    "def blackjack():\n",
    "    def deal_card():\n",
    "        return random.choice([2, 3, 4, 5, 6, 7, 8, 9, 10, 10, 10, 10, 11])\n",
    "    \n",
    "    def calculate_score(cards):\n",
    "        if sum(cards) == 21 and len(cards) == 2:\n",
    "            return 0\n",
    "        if 11 in cards and sum(cards) > 21:\n",
    "            cards.remove(11)\n",
    "            cards.append(1)\n",
    "        return sum(cards)\n",
    "    \n",
    "    print(\"Welcome to Blackjack!\")\n",
    "    \n",
    "    user_cards = [deal_card(), deal_card()]\n",
    "    computer_cards = [deal_card(), deal_card()]\n",
    "    \n",
    "    game_over = False\n",
    "    \n",
    "    while not game_over:\n",
    "        user_score = calculate_score(user_cards)\n",
    "        computer_score = calculate_score(computer_cards)\n",
    "        print(f\"Your cards: {user_cards}, current score: {user_score}\")\n",
    "        print(f\"Computer's first card: {computer_cards[0]}\")\n",
    "        \n",
    "        if user_score == 0 or computer_score == 0 or user_score > 21:\n",
    "            game_over = True\n",
    "        else:\n",
    "            should_continue = input(\"Type 'y' to get another card, type 'n' to pass: \")\n",
    "            if should_continue == 'y':\n",
    "                user_cards.append(deal_card())\n",
    "            else:\n",
    "                game_over = True\n",
    "    \n",
    "    while computer_score != 0 and computer_score < 17:\n",
    "        computer_cards.append(deal_card())\n",
    "        computer_score = calculate_score(computer_cards)\n",
    "    \n",
    "    print(f\"Your final hand: {user_cards}, final score: {user_score}\")\n",
    "    print(f\"Computer's final hand: {computer_cards}, final score: {computer_score}\")\n",
    "    \n",
    "    if user_score == computer_score:\n",
    "        print(\"It's a draw!\")\n",
    "    elif computer_score == 0:\n",
    "        print(\"Computer wins!\")\n",
    "    elif user_score == 0:\n",
    "        print(\"You win!\")\n",
    "    elif user_score > 21:\n",
    "        print(\"You lose. Computer wins!\")\n",
    "    elif computer_score > 21:\n",
    "        print(\"Computer lose. You win!\")\n",
    "    elif user_score > computer_score:\n",
    "        print(\"You win!\")\n",
    "    else:\n",
    "        print(\"Computer wins!\")\n",
    "\n",
    "blackjack()"
   ]
  },
  {
   "cell_type": "code",
   "execution_count": null,
   "id": "321a8c17-eab4-4843-bed2-0f3b3dfd683d",
   "metadata": {},
   "outputs": [],
   "source": [
    "# 40. Write a program that generates the prime factors of a given number using trial division.\n",
    "def prime_factors(n):\n",
    "    factors = []\n",
    "    # Divide by 2 until odd\n",
    "    while n % 2 == 0:\n",
    "        factors.append(2)\n",
    "        n //= 2\n",
    "    # Check for odd factors\n",
    "    for i in range(3, int(n**0.5) + 1, 2):\n",
    "        while n % i == 0:\n",
    "            factors.append(i)\n",
    "            n //= i\n",
    "    # If n is a prime number greater than 2\n",
    "    if n > 2:\n",
    "        factors.append(n)\n",
    "    return factors\n",
    "\n",
    "number = int(input(\"Enter a number: \"))\n",
    "print(f\"Prime factors: {prime_factors(number)}\")"
   ]
  },
  {
   "cell_type": "code",
   "execution_count": null,
   "id": "45a7671d-f0ff-4305-b3ae-7c735f52dae8",
   "metadata": {},
   "outputs": [],
   "source": []
  },
  {
   "cell_type": "code",
   "execution_count": null,
   "id": "2c767dce-c0e8-4ae5-9279-62620b2c0867",
   "metadata": {},
   "outputs": [],
   "source": []
  }
 ],
 "metadata": {
  "kernelspec": {
   "display_name": "Python 3 (ipykernel)",
   "language": "python",
   "name": "python3"
  },
  "language_info": {
   "codemirror_mode": {
    "name": "ipython",
    "version": 3
   },
   "file_extension": ".py",
   "mimetype": "text/x-python",
   "name": "python",
   "nbconvert_exporter": "python",
   "pygments_lexer": "ipython3",
   "version": "3.11.7"
  }
 },
 "nbformat": 4,
 "nbformat_minor": 5
}
